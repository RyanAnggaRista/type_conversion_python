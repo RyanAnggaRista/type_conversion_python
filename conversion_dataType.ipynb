{
 "cells": [
  {
   "cell_type": "markdown",
   "source": [
    "Data Type Conversion\r\n",
    "Python can detect data types stored in variables automatically, but when needed we need to do data type conversions.\r\n",
    "\r\n",
    "Functions to change the data type:\r\n",
    "- int() to convert to integer\r\n",
    "- long() to convert to a long integer\r\n",
    "- float() to convert to float\r\n",
    "- bool() to convert to boolean\r\n",
    "- chr() to convert to character\r\n",
    "- str() to convert to string\r\n",
    "- bin() to convert to binary number\r\n",
    "- hex() to convert to Hexadecimal number\r\n",
    "- oct() to convert to octal number.\r\n",
    "\r\n",
    "for the example"
   ],
   "metadata": {}
  },
  {
   "cell_type": "code",
   "execution_count": 9,
   "source": [
    "a = int(1)\r\n",
    "b = float(a) #covert integer type to float type\r\n",
    "\r\n",
    "print(b)"
   ],
   "outputs": [
    {
     "output_type": "stream",
     "name": "stdout",
     "text": [
      "1.0\n"
     ]
    }
   ],
   "metadata": {}
  }
 ],
 "metadata": {
  "orig_nbformat": 4,
  "language_info": {
   "name": "python",
   "version": "3.8.8",
   "mimetype": "text/x-python",
   "codemirror_mode": {
    "name": "ipython",
    "version": 3
   },
   "pygments_lexer": "ipython3",
   "nbconvert_exporter": "python",
   "file_extension": ".py"
  },
  "kernelspec": {
   "name": "python3",
   "display_name": "Python 3.8.8 64-bit ('tensorflow': conda)"
  },
  "interpreter": {
   "hash": "abc5b91c3c2038cc2751131831de32df55466421f0e9ffb98c25c0be35392502"
  }
 },
 "nbformat": 4,
 "nbformat_minor": 2
}